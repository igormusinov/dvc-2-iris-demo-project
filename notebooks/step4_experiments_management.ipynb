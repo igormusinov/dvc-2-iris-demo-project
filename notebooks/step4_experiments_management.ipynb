{
 "cells": [
  {
   "cell_type": "code",
   "execution_count": 1,
   "metadata": {},
   "outputs": [
    {
     "name": "stdout",
     "output_type": "stream",
     "text": [
      "/home/dvc-2-iris-demo\n"
     ]
    }
   ],
   "source": [
    "%cd /home/dvc-2-iris-demo"
   ]
  },
  {
   "cell_type": "markdown",
   "metadata": {},
   "source": [
    "# About"
   ]
  },
  {
   "cell_type": "markdown",
   "metadata": {},
   "source": [
    "Here we will create experiments with different configuration and save them as a tags.   \n",
    "Also we will try to add new features - new experiment.\n",
    "\n",
    "Then it will be possible to show and compare metrics for different experiments using _DVC_\n",
    "\n",
    "NOTES:\n",
    "- Make sure that you have performed the step 3 and created DVC pipelines"
   ]
  },
  {
   "cell_type": "markdown",
   "metadata": {},
   "source": [
    "# Experiments"
   ]
  },
  {
   "cell_type": "markdown",
   "metadata": {},
   "source": [
    "### Overview pipeline_config.yml"
   ]
  },
  {
   "cell_type": "code",
   "execution_count": 2,
   "metadata": {},
   "outputs": [
    {
     "name": "stdout",
     "output_type": "stream",
     "text": [
      "project: 7labs/dvc-2-iris-demo\n",
      "name: vision\n",
      "tags: [solution-0-prototype, dev]\n",
      "\n",
      "\n",
      "\n",
      "dataset:\n",
      "\n",
      "  # random state for train/test split\n",
      "  random_state: 42\n",
      "  # source dataset\n",
      "  dataset_csv: data/raw/iris.csv\n",
      "  featured_dataset_csv: data/interim/featured_iris.csv\n",
      "  train_csv: data/processed/train_iris.csv\n",
      "  test_csv: data/processed/test_iris.csv\n",
      "  test_size: 0.2\n",
      "  features_columns_range: ['sepal_length', 'petal_length_to_petal_width']\n",
      "  target_column: species\n",
      "\n",
      "\n",
      "train:\n",
      "  # available estimators:\n",
      "  #     logreg (sklearn.linear_model.LogisticRegression),\n",
      "  #     smv(sklearn.svm.SVC),\n",
      "  #     knn(sklearn.neighbors.KNeighborsClassifier)\n",
      "  estimator_name: 'knn'\n",
      "  # params of GridSearchCV constructor\n",
      "  grid_search_cv_config:\n",
      "    # grid of estimator parameters (see in https://scikit-learn.org/ for specific estimator\n",
      "    param_grid:\n",
      "      n_neighbors: [5,10,15]\n",
      "      leaf_size: [30,60,90]\n",
      "      p: [1,2]\n",
      "    cv: 10\n",
      "\n",
      "\n",
      "evaluate:\n",
      "  metrics_file: eval.txt\n",
      "\n",
      "\n",
      "model:\n",
      "\n",
      "  model_name: model.joblib\n",
      "  models_folder: models\n",
      "\n",
      "\n",
      "report:\n",
      "  reports_folder: experiments\n",
      "\n",
      "\n",
      "split_config:\n",
      "  folder: experiments\n",
      "\n"
     ]
    }
   ],
   "source": [
    "s = open('config/pipeline_config.yml').read()\n",
    "print(s)"
   ]
  },
  {
   "cell_type": "markdown",
   "metadata": {},
   "source": [
    "# Experiment 1 - Tune LogisticRegression"
   ]
  },
  {
   "cell_type": "markdown",
   "metadata": {},
   "source": [
    "#### 1) create branch for experiment"
   ]
  },
  {
   "cell_type": "code",
   "execution_count": 41,
   "metadata": {},
   "outputs": [
    {
     "name": "stdout",
     "output_type": "stream",
     "text": [
      "fatal: A branch named 'exp1-tune-logreg' already exists.\n",
      "  dev\u001b[m\n",
      "  exp1-logreg\u001b[m\n",
      "  exp1-tune-logreg\u001b[m\n",
      "  master\u001b[m\n",
      "* \u001b[32mnew-branch\u001b[m\n"
     ]
    }
   ],
   "source": [
    "!git checkout -b exp1-tune-logreg\n",
    "!git branch"
   ]
  },
  {
   "cell_type": "markdown",
   "metadata": {},
   "source": [
    "#### 2) update config/pipeline_config.yml file: add options for __C__ hyperparamter in __logreg__:__param_grid__ section__\n",
    "\n",
    "```yaml\n",
    "...\n",
    "        param_grid:\n",
    "              C: [0.1,1.0,10]\n",
    "...\n",
    "```\n",
    "\n",
    "as result you should have LogisticRegression config:\n",
    "\n",
    "```yaml\n",
    "...\n",
    "train:\n",
    "  cv: 3\n",
    "  estimator_name: logreg\n",
    "\n",
    "  estimators:\n",
    "\n",
    "    logreg: # sklearn.linear_model.LogisticRegression\n",
    "      param_grid: # params of GridSearchCV constructor\n",
    "        C: [0.001, 0.01]\n",
    "        max_iter: [100]\n",
    "        solver: ['lbfgs']\n",
    "        multi_class: ['multinomial']\n",
    "...\n",
    "```\n"
   ]
  },
  {
   "cell_type": "markdown",
   "metadata": {},
   "source": [
    "#### Run experiment and save results "
   ]
  },
  {
   "cell_type": "code",
   "execution_count": 42,
   "metadata": {},
   "outputs": [
    {
     "name": "stdout",
     "output_type": "stream",
     "text": [
      "\u001b[KStage 'stage_prepare_configs.dvc' didn't change.\n",
      "\u001b[KStage 'stage_featurize.dvc' didn't change.\n",
      "\u001b[KStage 'stage_split_train_test.dvc' didn't change.\n",
      "\u001b[KStage 'stage_train.dvc' didn't change.\n",
      "\u001b[KStage 'stage_evaluate.dvc' didn't change.\n",
      "\u001b[KPipeline is up to date. Nothing to reproduce.\n",
      "\u001b[0m"
     ]
    }
   ],
   "source": [
    "# Reproduce pipeline with new params\n",
    "\n",
    "!dvc repro stage_evaluate.dvc"
   ]
  },
  {
   "cell_type": "code",
   "execution_count": 43,
   "metadata": {},
   "outputs": [
    {
     "name": "stdout",
     "output_type": "stream",
     "text": [
      "[new-branch e42959c] Experiment 1 with LogisticRegression hyperparameters\n",
      " 3 files changed, 189 insertions(+), 53 deletions(-)\n",
      "fatal: tag 'exp1-logreg-.93' already exists\n"
     ]
    }
   ],
   "source": [
    "# Commit experiment results\n",
    "\n",
    "!git add .\n",
    "!git commit -m \"Experiment 1 with LogisticRegression hyperparameters\"\n",
    "!git tag -a \"exp1\" -m \"Experiment 1 with LogisticRegression hyperparameters\""
   ]
  },
  {
   "cell_type": "code",
   "execution_count": 44,
   "metadata": {},
   "outputs": [
    {
     "name": "stdout",
     "output_type": "stream",
     "text": [
      "\u001b[K\texperiments/eval.txt:\n",
      "\u001b[K\t\t{\n",
      "\u001b[K\t\t  \"f1_score\": 0.9305555555555555,\n",
      "\u001b[K\t\t  \"confusion_matrix\": [\n",
      "\u001b[K\t\t    [\n",
      "\u001b[K\t\t      10,\n",
      "\u001b[K\t\t      0,\n",
      "\u001b[K\t\t      0\n",
      "\u001b[K\t\t    ],\n",
      "\u001b[K\t\t    [\n",
      "\u001b[K\t\t      0,\n",
      "\u001b[K\t\t      7,\n",
      "\u001b[K\t\t      0\n",
      "\u001b[K\t\t    ],\n",
      "\u001b[K\t\t    [\n",
      "\u001b[K\t\t      0,\n",
      "\u001b[K\t\t      2,\n",
      "\u001b[K\t\t      11\n",
      "\u001b[K\t\t    ]\n",
      "\u001b[K\t\t  ]\n",
      "\u001b[K\t\t}\n",
      "\u001b[0m"
     ]
    }
   ],
   "source": [
    "# Show metrics \n",
    "\n",
    "!dvc metrics show"
   ]
  },
  {
   "cell_type": "code",
   "execution_count": 45,
   "metadata": {},
   "outputs": [
    {
     "name": "stdout",
     "output_type": "stream",
     "text": [
      "Switched to branch 'dev'\n",
      "Your branch is ahead of 'origin/dev' by 3 commits.\n",
      "  (use \"git push\" to publish your local commits)\n",
      "Auto-merging notebooks/step4_experiments_management.ipynb\n",
      "CONFLICT (content): Merge conflict in notebooks/step4_experiments_management.ipynb\n",
      "Automatic merge failed; fix conflicts and then commit the result.\n",
      "* \u001b[32mdev\u001b[m\n",
      "  exp1-logreg\u001b[m\n",
      "  exp1-tune-logreg\u001b[m\n",
      "  master\u001b[m\n",
      "  new-branch\u001b[m\n"
     ]
    }
   ],
   "source": [
    "# Merge results \n",
    "\n",
    "!git checkout dev\n",
    "!git merge exp1-tune-logreg && git branch -d exp1-tune-logreg\n",
    "!git branch"
   ]
  },
  {
   "cell_type": "code",
   "execution_count": 46,
   "metadata": {},
   "outputs": [
    {
     "name": "stdout",
     "output_type": "stream",
     "text": [
      "exp1-logreg\n",
      "exp1-logreg-.93\n"
     ]
    }
   ],
   "source": [
    "!git tag --list"
   ]
  },
  {
   "cell_type": "code",
   "execution_count": 48,
   "metadata": {},
   "outputs": [
    {
     "name": "stdout",
     "output_type": "stream",
     "text": [
      "fatal: A branch named 'new-branch' already exists.\n",
      "* \u001b[32mdev\u001b[m\n",
      "  exp1-tune-logreg\u001b[m\n",
      "  master\u001b[m\n",
      "  new-branch\u001b[m\n"
     ]
    }
   ],
   "source": [
    "# checkout the specific tag\n",
    "!git checkout tags/exp1 -b new-branch\n",
    "!git branch"
   ]
  },
  {
   "cell_type": "code",
   "execution_count": null,
   "metadata": {},
   "outputs": [],
   "source": []
  },
  {
   "cell_type": "markdown",
   "metadata": {},
   "source": [
    "# Experiment 2 - Use SVM"
   ]
  },
  {
   "cell_type": "markdown",
   "metadata": {},
   "source": [
    "#### 1) create branch for experiment"
   ]
  },
  {
   "cell_type": "code",
   "execution_count": 52,
   "metadata": {},
   "outputs": [
    {
     "name": "stdout",
     "output_type": "stream",
     "text": [
      "notebooks/step4_experiments_management.ipynb: needs merge\n",
      "error: you need to resolve your current index first\n",
      "* \u001b[32mdev\u001b[m\n",
      "  exp1-tune-logreg\u001b[m\n",
      "  master\u001b[m\n",
      "  new-branch\u001b[m\n"
     ]
    }
   ],
   "source": [
    "!git checkout -b exp2-use-svm\n",
    "!git branch"
   ]
  },
  {
   "cell_type": "markdown",
   "metadata": {},
   "source": [
    "#### 2) add SVC config to config/pipeline_config.yml file: in __train__:__estimators__\n",
    "\n",
    "```yaml\n",
    "...\n",
    "        param_grid:\n",
    "              C: [0.1,1.0,10]\n",
    "...\n",
    "```\n",
    "\n",
    "as result you should have LogisticRegression config:\n",
    "\n",
    "```yaml\n",
    "...\n",
    "train:\n",
    "  cv: 3\n",
    "  estimator_name: svm\n",
    "  estimators:\n",
    "        \n",
    "    svm: # sklearn.svm.SVC\n",
    "      param_grid:\n",
    "        C: [0.1, 1.0]\n",
    "        kernel: [\"rbf\", \"linear\"]\n",
    "        gamma: [\"scale\"]\n",
    "        degree: [3, 5]\n",
    "...\n",
    "```\n"
   ]
  },
  {
   "cell_type": "markdown",
   "metadata": {},
   "source": [
    "#### 3) Run experiment and save results "
   ]
  },
  {
   "cell_type": "code",
   "execution_count": 54,
   "metadata": {},
   "outputs": [
    {
     "name": "stdout",
     "output_type": "stream",
     "text": [
      "\u001b[KStage 'stage_prepare_configs.dvc' didn't change.\n",
      "\u001b[KReproducing 'stage_prepare_configs.dvc'\n",
      "\u001b[KRunning command:\n",
      "\tpython src/pipelines/prepare_configs.py --config=config/pipeline_config.yml\n",
      "Save config: experiments/base_config.yml\n",
      "Save config: experiments/split_train_test_config.yml\n",
      "Save config: experiments/featurize_config.yml\n",
      "Save config: experiments/train_config.yml\n",
      "Save config: experiments/evaluate_config.yml\n",
      "\u001b[KOutput 'experiments/split_train_test_config.yml' didn't change. Skipping saving.\n",
      "\u001b[KOutput 'experiments/featurize_config.yml' didn't change. Skipping saving.\n",
      "\u001b[KOutput 'experiments/train_config.yml' didn't change. Skipping saving.\n",
      "\u001b[KOutput 'experiments/evaluate_config.yml' didn't change. Skipping saving.\n",
      "\u001b[K\u001b[33mWARNING\u001b[39m: data 'experiments/split_train_test_config.yml' exists. Removing before checkout.\n",
      "\u001b[K\u001b[33mWARNING\u001b[39m: data 'experiments/featurize_config.yml' exists. Removing before checkout.\n",
      "\u001b[K\u001b[33mWARNING\u001b[39m: data 'experiments/train_config.yml' exists. Removing before checkout.\n",
      "\u001b[K\u001b[33mWARNING\u001b[39m: data 'experiments/evaluate_config.yml' exists. Removing before checkout.\n",
      "\u001b[KSaving information to 'stage_prepare_configs.dvc'.\n",
      "\u001b[KStage 'stage_featurize.dvc' didn't change.\n",
      "\u001b[KReproducing 'stage_featurize.dvc'\n",
      "\u001b[KRunning command:\n",
      "\tpython src/pipelines/featurize.py --config=experiments/featurize_config.yml\n",
      "\u001b[KOutput 'data/interim/featured_iris.csv' didn't change. Skipping saving.\n",
      "\u001b[K\u001b[33mWARNING\u001b[39m: data 'data/interim/featured_iris.csv' exists. Removing before checkout.\n",
      "\u001b[KSaving information to 'stage_featurize.dvc'.\n",
      "\u001b[KStage 'stage_split_train_test.dvc' didn't change.\n",
      "\u001b[KReproducing 'stage_split_train_test.dvc'\n",
      "\u001b[KRunning command:\n",
      "\tpython src/pipelines/split_train_test.py --config=experiments/split_train_test_config.yml --base_config=config/pipeline_config.yml\n",
      "\u001b[KOutput 'data/processed/train_iris.csv' didn't change. Skipping saving.\n",
      "\u001b[KOutput 'data/processed/test_iris.csv' didn't change. Skipping saving.\n",
      "\u001b[K\u001b[33mWARNING\u001b[39m: data 'data/processed/train_iris.csv' exists. Removing before checkout.\n",
      "\u001b[K\u001b[33mWARNING\u001b[39m: data 'data/processed/test_iris.csv' exists. Removing before checkout.\n",
      "\u001b[KSaving information to 'stage_split_train_test.dvc'.\n",
      "\u001b[KStage 'stage_train.dvc' didn't change.\n",
      "\u001b[KReproducing 'stage_train.dvc'\n",
      "\u001b[KRunning command:\n",
      "\tpython src/pipelines/train.py --config=experiments/train_config.yml --base_config=config/pipeline_config.yml\n",
      "Fitting 5 folds for each of 2 candidates, totalling 10 fits\n",
      "[Parallel(n_jobs=1)]: Using backend SequentialBackend with 1 concurrent workers.\n",
      "[Parallel(n_jobs=1)]: Done  10 out of  10 | elapsed:    0.1s finished\n",
      "/usr/local/lib/python3.7/site-packages/sklearn/model_selection/_search.py:813: DeprecationWarning: The default of the `iid` parameter will change from True to False in version 0.22 and will be removed in 0.24. This will change numeric results when test-set sizes are unequal.\n",
      "  DeprecationWarning)\n",
      "0.8529086479396076\n",
      "\u001b[KSaving 'models/model.joblib' to '.dvc/cache/ca/71ab77bebe7faad976ccbf28f072ef'.\n",
      "\u001b[KSaving information to 'stage_train.dvc'.\n",
      "\u001b[K\u001b[33mWARNING\u001b[39m: Dependency 'models/model.joblib' of 'stage_evaluate.dvc' changed because it is 'modified'.\n",
      "\u001b[K\u001b[33mWARNING\u001b[39m: Stage 'stage_evaluate.dvc' changed.\n",
      "\u001b[KReproducing 'stage_evaluate.dvc'\n",
      "\u001b[KRunning command:\n",
      "\tpython src/pipelines/evaluate.py --config=experiments/evaluate_config.yml --base_config=config/pipeline_config.yml\n",
      "{'f1_score': 0.9305555555555555, 'confusion_matrix': [[10, 0, 0], [0, 7, 0], [0, 2, 11]]}\n",
      "\u001b[KOutput 'experiments/eval.txt' didn't change. Skipping saving.\n",
      "\u001b[K\u001b[33mWARNING\u001b[39m: data 'experiments/eval.txt' exists. Removing before checkout.\n",
      "\u001b[KSaving information to 'stage_evaluate.dvc'.\n",
      "\u001b[K\n",
      "To track the changes with git run:\n",
      "\n",
      "\tgit add stage_prepare_configs.dvc stage_featurize.dvc stage_split_train_test.dvc stage_train.dvc stage_evaluate.dvc\n",
      "\u001b[0m"
     ]
    }
   ],
   "source": [
    "# Reproduce pipeline with new params\n",
    "\n",
    "!dvc repro stage_evaluate.dvc -f"
   ]
  },
  {
   "cell_type": "code",
   "execution_count": 55,
   "metadata": {},
   "outputs": [
    {
     "name": "stdout",
     "output_type": "stream",
     "text": [
      "[dev 2ae58d2] Experiment 2 with SVM estimator\n"
     ]
    }
   ],
   "source": [
    "# Commit experiment results\n",
    "\n",
    "!git add .\n",
    "!git commit -m \"Experiment 2 with SVM estimator\"\n",
    "!git tag -a \"exp2\" -m \"Experiment 2 with SVM estimator\""
   ]
  },
  {
   "cell_type": "code",
   "execution_count": 56,
   "metadata": {},
   "outputs": [
    {
     "name": "stdout",
     "output_type": "stream",
     "text": [
      "\u001b[K\texperiments/eval.txt:\n",
      "\u001b[K\t\t{\n",
      "\u001b[K\t\t  \"f1_score\": 0.9305555555555555,\n",
      "\u001b[K\t\t  \"confusion_matrix\": [\n",
      "\u001b[K\t\t    [\n",
      "\u001b[K\t\t      10,\n",
      "\u001b[K\t\t      0,\n",
      "\u001b[K\t\t      0\n",
      "\u001b[K\t\t    ],\n",
      "\u001b[K\t\t    [\n",
      "\u001b[K\t\t      0,\n",
      "\u001b[K\t\t      7,\n",
      "\u001b[K\t\t      0\n",
      "\u001b[K\t\t    ],\n",
      "\u001b[K\t\t    [\n",
      "\u001b[K\t\t      0,\n",
      "\u001b[K\t\t      2,\n",
      "\u001b[K\t\t      11\n",
      "\u001b[K\t\t    ]\n",
      "\u001b[K\t\t  ]\n",
      "\u001b[K\t\t}\n",
      "\u001b[0m"
     ]
    }
   ],
   "source": [
    "# Show metrics \n",
    "\n",
    "!dvc metrics show"
   ]
  },
  {
   "cell_type": "code",
   "execution_count": 57,
   "metadata": {},
   "outputs": [
    {
     "name": "stdout",
     "output_type": "stream",
     "text": [
      "Already on 'dev'\n",
      "Your branch is ahead of 'origin/dev' by 5 commits.\n",
      "  (use \"git push\" to publish your local commits)\n",
      "Already up-to-date.\n",
      "error: branch 'exp2-svm' not found.\n",
      "* \u001b[32mdev\u001b[m\n",
      "  exp1-tune-logreg\u001b[m\n",
      "  master\u001b[m\n",
      "  new-branch\u001b[m\n"
     ]
    }
   ],
   "source": [
    "# Merge results \n",
    "\n",
    "!git checkout dev\n",
    "!git merge exp2-svm && git branch -d exp2-svm\n",
    "!git branch"
   ]
  },
  {
   "cell_type": "code",
   "execution_count": null,
   "metadata": {},
   "outputs": [],
   "source": []
  },
  {
   "cell_type": "markdown",
   "metadata": {},
   "source": [
    "# Experiment 3 - Add new features"
   ]
  },
  {
   "cell_type": "markdown",
   "metadata": {},
   "source": [
    "#### 1) create branch for experiment"
   ]
  },
  {
   "cell_type": "code",
   "execution_count": 58,
   "metadata": {},
   "outputs": [
    {
     "name": "stdout",
     "output_type": "stream",
     "text": [
      "M\tnotebooks/step4_experiments_management.ipynb\n",
      "Switched to a new branch 'exp3-squared-features'\n",
      "  dev\u001b[m\n",
      "  exp1-tune-logreg\u001b[m\n",
      "* \u001b[32mexp3-squared-features\u001b[m\n",
      "  master\u001b[m\n",
      "  new-branch\u001b[m\n"
     ]
    }
   ],
   "source": [
    "!git checkout -b exp3-add-features\n",
    "!git branch"
   ]
  },
  {
   "cell_type": "markdown",
   "metadata": {},
   "source": [
    "#### 2) Uncomment features in src/features/featurize.py "
   ]
  },
  {
   "cell_type": "code",
   "execution_count": 59,
   "metadata": {},
   "outputs": [
    {
     "name": "stdout",
     "output_type": "stream",
     "text": [
      "\u001b[KStage 'stage_prepare_configs.dvc' didn't change.\n",
      "\u001b[KReproducing 'stage_prepare_configs.dvc'\n",
      "\u001b[KRunning command:\n",
      "\tpython src/pipelines/prepare_configs.py --config=config/pipeline_config.yml\n",
      "Save config: experiments/base_config.yml\n",
      "Save config: experiments/split_train_test_config.yml\n",
      "Save config: experiments/featurize_config.yml\n",
      "Save config: experiments/train_config.yml\n",
      "Save config: experiments/evaluate_config.yml\n",
      "\u001b[KOutput 'experiments/split_train_test_config.yml' didn't change. Skipping saving.\n",
      "\u001b[KOutput 'experiments/featurize_config.yml' didn't change. Skipping saving.\n",
      "\u001b[KOutput 'experiments/train_config.yml' didn't change. Skipping saving.\n",
      "\u001b[KOutput 'experiments/evaluate_config.yml' didn't change. Skipping saving.\n",
      "\u001b[K\u001b[33mWARNING\u001b[39m: data 'experiments/split_train_test_config.yml' exists. Removing before checkout.\n",
      "\u001b[K\u001b[33mWARNING\u001b[39m: data 'experiments/featurize_config.yml' exists. Removing before checkout.\n",
      "\u001b[K\u001b[33mWARNING\u001b[39m: data 'experiments/train_config.yml' exists. Removing before checkout.\n",
      "\u001b[K\u001b[33mWARNING\u001b[39m: data 'experiments/evaluate_config.yml' exists. Removing before checkout.\n",
      "\u001b[KSaving information to 'stage_prepare_configs.dvc'.\n",
      "\u001b[KStage 'stage_featurize.dvc' didn't change.\n",
      "\u001b[KReproducing 'stage_featurize.dvc'\n",
      "\u001b[KRunning command:\n",
      "\tpython src/pipelines/featurize.py --config=experiments/featurize_config.yml\n",
      "\u001b[KOutput 'data/interim/featured_iris.csv' didn't change. Skipping saving.\n",
      "\u001b[K\u001b[33mWARNING\u001b[39m: data 'data/interim/featured_iris.csv' exists. Removing before checkout.\n",
      "\u001b[KSaving information to 'stage_featurize.dvc'.\n",
      "\u001b[KStage 'stage_split_train_test.dvc' didn't change.\n",
      "\u001b[KReproducing 'stage_split_train_test.dvc'\n",
      "\u001b[KRunning command:\n",
      "\tpython src/pipelines/split_train_test.py --config=experiments/split_train_test_config.yml --base_config=config/pipeline_config.yml\n",
      "\u001b[KOutput 'data/processed/train_iris.csv' didn't change. Skipping saving.\n",
      "\u001b[KOutput 'data/processed/test_iris.csv' didn't change. Skipping saving.\n",
      "\u001b[K\u001b[33mWARNING\u001b[39m: data 'data/processed/train_iris.csv' exists. Removing before checkout.\n",
      "\u001b[K\u001b[33mWARNING\u001b[39m: data 'data/processed/test_iris.csv' exists. Removing before checkout.\n",
      "\u001b[KSaving information to 'stage_split_train_test.dvc'.\n",
      "\u001b[KStage 'stage_train.dvc' didn't change.\n",
      "\u001b[KReproducing 'stage_train.dvc'\n",
      "\u001b[KRunning command:\n",
      "\tpython src/pipelines/train.py --config=experiments/train_config.yml --base_config=config/pipeline_config.yml\n",
      "Fitting 5 folds for each of 2 candidates, totalling 10 fits\n",
      "[Parallel(n_jobs=1)]: Using backend SequentialBackend with 1 concurrent workers.\n",
      "[Parallel(n_jobs=1)]: Done  10 out of  10 | elapsed:    0.1s finished\n",
      "/usr/local/lib/python3.7/site-packages/sklearn/model_selection/_search.py:813: DeprecationWarning: The default of the `iid` parameter will change from True to False in version 0.22 and will be removed in 0.24. This will change numeric results when test-set sizes are unequal.\n",
      "  DeprecationWarning)\n",
      "0.8529086479396076\n",
      "\u001b[KSaving 'models/model.joblib' to '.dvc/cache/b6/dc65dc59cbaaef5796908cd02e6469'.\n",
      "\u001b[KSaving information to 'stage_train.dvc'.\n",
      "\u001b[K\u001b[33mWARNING\u001b[39m: Dependency 'models/model.joblib' of 'stage_evaluate.dvc' changed because it is 'modified'.\n",
      "\u001b[K\u001b[33mWARNING\u001b[39m: Stage 'stage_evaluate.dvc' changed.\n",
      "\u001b[KReproducing 'stage_evaluate.dvc'\n",
      "\u001b[KRunning command:\n",
      "\tpython src/pipelines/evaluate.py --config=experiments/evaluate_config.yml --base_config=config/pipeline_config.yml\n",
      "{'f1_score': 0.9305555555555555, 'confusion_matrix': [[10, 0, 0], [0, 7, 0], [0, 2, 11]]}\n",
      "\u001b[KOutput 'experiments/eval.txt' didn't change. Skipping saving.\n",
      "\u001b[K\u001b[33mWARNING\u001b[39m: data 'experiments/eval.txt' exists. Removing before checkout.\n",
      "\u001b[KSaving information to 'stage_evaluate.dvc'.\n",
      "\u001b[K\n",
      "To track the changes with git run:\n",
      "\n",
      "\tgit add stage_prepare_configs.dvc stage_featurize.dvc stage_split_train_test.dvc stage_train.dvc stage_evaluate.dvc\n",
      "\u001b[0m"
     ]
    }
   ],
   "source": [
    "# Reproduce pipeline with new params\n",
    "\n",
    "!dvc repro stage_evaluate.dvc -f"
   ]
  },
  {
   "cell_type": "code",
   "execution_count": 64,
   "metadata": {},
   "outputs": [
    {
     "name": "stdout",
     "output_type": "stream",
     "text": [
      "[dev 3f49f37] Experiment 3 with new features\n",
      " 3 files changed, 327 insertions(+), 58 deletions(-)\n"
     ]
    }
   ],
   "source": [
    "# Commit experiment results\n",
    "\n",
    "!git add .\n",
    "!git commit -m \"Experiment 3 with new features\"\n",
    "!git tag -a \"exp3\" -m \"Experiment 3 with squared features\""
   ]
  },
  {
   "cell_type": "code",
   "execution_count": 65,
   "metadata": {},
   "outputs": [
    {
     "name": "stdout",
     "output_type": "stream",
     "text": [
      "Already on 'dev'\n",
      "Your branch is ahead of 'origin/dev' by 6 commits.\n",
      "  (use \"git push\" to publish your local commits)\n",
      "merge: exp3-squared-features - not something we can merge\n",
      "* \u001b[32mdev\u001b[m\n",
      "  exp1-tune-logreg\u001b[m\n",
      "  master\u001b[m\n",
      "  new-branch\u001b[m\n"
     ]
    }
   ],
   "source": [
    "# Merge results \n",
    "\n",
    "!git checkout dev\n",
    "!git merge  exp3-add-features && git branch -d exp3-add-features\n",
    "!git branch"
   ]
  },
  {
   "cell_type": "code",
   "execution_count": 61,
   "metadata": {},
   "outputs": [
    {
     "name": "stdout",
     "output_type": "stream",
     "text": [
      "\u001b[KPreparing to upload data to '/tmp/dvc-storage'\n",
      "\u001b[KPreparing to collect status from /tmp/dvc-storage\n",
      "\u001b[K[##############################] 100% Collecting information\n",
      "\u001b[K[##############################] 100% Analysing status.\n",
      "\u001b[K(1/9): [##############################] 100% experiments/split_train_test_config.yml\n",
      "\u001b[K(2/9): [##############################] 100% experiments/train_config.yml\n",
      "\u001b[K(3/9): [##############################] 100% experiments/featurize_config.yml\n",
      "\u001b[K(4/9): [##############################] 100% experiments/eval.txt\n",
      "\u001b[K(5/9): [##############################] 100% models/model.joblib\n",
      "\u001b[K(6/9): [##############################] 100% experiments/evaluate_config.yml\n",
      "\u001b[K(7/9): [##############################] 100% data/processed/train_iris.csv\n",
      "\u001b[K(8/9): [##############################] 100% data/processed/test_iris.csv\n",
      "\u001b[K(9/9): [##############################] 100% data/interim/featured_iris.csv\n",
      "\u001b[0m"
     ]
    }
   ],
   "source": [
    "!dvc push"
   ]
  },
  {
   "cell_type": "code",
   "execution_count": null,
   "metadata": {},
   "outputs": [],
   "source": []
  },
  {
   "cell_type": "markdown",
   "metadata": {},
   "source": [
    "# Compare experiments"
   ]
  },
  {
   "cell_type": "markdown",
   "metadata": {},
   "source": [
    "#### List experiments"
   ]
  },
  {
   "cell_type": "code",
   "execution_count": 67,
   "metadata": {},
   "outputs": [
    {
     "name": "stdout",
     "output_type": "stream",
     "text": [
      "exp1-logreg\n",
      "exp1-logreg-.93\n",
      "exp2-svm\n",
      "exp3-features\n"
     ]
    }
   ],
   "source": [
    "!git tag --list"
   ]
  },
  {
   "cell_type": "markdown",
   "metadata": {},
   "source": [
    "#### Select experiment"
   ]
  },
  {
   "cell_type": "code",
   "execution_count": 68,
   "metadata": {},
   "outputs": [
    {
     "name": "stdout",
     "output_type": "stream",
     "text": [
      "Note: checking out 'exp2-svm'.\n",
      "\n",
      "You are in 'detached HEAD' state. You can look around, make experimental\n",
      "changes and commit them, and you can discard any commits you make in this\n",
      "state without impacting any branches by performing another checkout.\n",
      "\n",
      "If you want to create a new branch to retain commits you create, you may\n",
      "do so (now or later) by using -b with the checkout command again. Example:\n",
      "\n",
      "  git checkout -b <new-branch-name>\n",
      "\n",
      "HEAD is now at 2ae58d2... Experiment 2 with SVM estimator\n"
     ]
    }
   ],
   "source": [
    "!git checkout exp2"
   ]
  },
  {
   "cell_type": "markdown",
   "metadata": {},
   "source": [
    "#### Reproduce"
   ]
  },
  {
   "cell_type": "code",
   "execution_count": 71,
   "metadata": {},
   "outputs": [
    {
     "name": "stdout",
     "output_type": "stream",
     "text": [
      "\u001b[KStage 'stage_prepare_configs.dvc' didn't change.\n",
      "\u001b[KReproducing 'stage_prepare_configs.dvc'\n",
      "\u001b[KRunning command:\n",
      "\tpython src/pipelines/prepare_configs.py --config=config/pipeline_config.yml\n",
      "Save config: experiments/base_config.yml\n",
      "Save config: experiments/split_train_test_config.yml\n",
      "Save config: experiments/featurize_config.yml\n",
      "Save config: experiments/train_config.yml\n",
      "Save config: experiments/evaluate_config.yml\n",
      "\u001b[KOutput 'experiments/split_train_test_config.yml' didn't change. Skipping saving.\n",
      "\u001b[KOutput 'experiments/featurize_config.yml' didn't change. Skipping saving.\n",
      "\u001b[KOutput 'experiments/train_config.yml' didn't change. Skipping saving.\n",
      "\u001b[KOutput 'experiments/evaluate_config.yml' didn't change. Skipping saving.\n",
      "\u001b[K\u001b[33mWARNING\u001b[39m: data 'experiments/split_train_test_config.yml' exists. Removing before checkout.\n",
      "\u001b[K\u001b[33mWARNING\u001b[39m: data 'experiments/featurize_config.yml' exists. Removing before checkout.\n",
      "\u001b[K\u001b[33mWARNING\u001b[39m: data 'experiments/train_config.yml' exists. Removing before checkout.\n",
      "\u001b[K\u001b[33mWARNING\u001b[39m: data 'experiments/evaluate_config.yml' exists. Removing before checkout.\n",
      "\u001b[KSaving information to 'stage_prepare_configs.dvc'.\n",
      "\u001b[KStage 'stage_featurize.dvc' didn't change.\n",
      "\u001b[KReproducing 'stage_featurize.dvc'\n",
      "\u001b[KRunning command:\n",
      "\tpython src/pipelines/featurize.py --config=experiments/featurize_config.yml\n",
      "\u001b[KOutput 'data/interim/featured_iris.csv' didn't change. Skipping saving.\n",
      "\u001b[K\u001b[33mWARNING\u001b[39m: data 'data/interim/featured_iris.csv' exists. Removing before checkout.\n",
      "\u001b[KSaving information to 'stage_featurize.dvc'.\n",
      "\u001b[KStage 'stage_split_train_test.dvc' didn't change.\n",
      "\u001b[KReproducing 'stage_split_train_test.dvc'\n",
      "\u001b[KRunning command:\n",
      "\tpython src/pipelines/split_train_test.py --config=experiments/split_train_test_config.yml --base_config=config/pipeline_config.yml\n",
      "\u001b[KOutput 'data/processed/train_iris.csv' didn't change. Skipping saving.\n",
      "\u001b[KOutput 'data/processed/test_iris.csv' didn't change. Skipping saving.\n",
      "\u001b[K\u001b[33mWARNING\u001b[39m: data 'data/processed/train_iris.csv' exists. Removing before checkout.\n",
      "\u001b[K\u001b[33mWARNING\u001b[39m: data 'data/processed/test_iris.csv' exists. Removing before checkout.\n",
      "\u001b[KSaving information to 'stage_split_train_test.dvc'.\n",
      "\u001b[KStage 'stage_train.dvc' didn't change.\n",
      "\u001b[KReproducing 'stage_train.dvc'\n",
      "\u001b[KRunning command:\n",
      "\tpython src/pipelines/train.py --config=experiments/train_config.yml --base_config=config/pipeline_config.yml\n",
      "Fitting 5 folds for each of 2 candidates, totalling 10 fits\n",
      "[Parallel(n_jobs=1)]: Using backend SequentialBackend with 1 concurrent workers.\n",
      "[Parallel(n_jobs=1)]: Done  10 out of  10 | elapsed:    0.1s finished\n",
      "/usr/local/lib/python3.7/site-packages/sklearn/model_selection/_search.py:813: DeprecationWarning: The default of the `iid` parameter will change from True to False in version 0.22 and will be removed in 0.24. This will change numeric results when test-set sizes are unequal.\n",
      "  DeprecationWarning)\n",
      "0.8529086479396076\n",
      "\u001b[KSaving 'models/model.joblib' to '.dvc/cache/54/4889dd86a38a2d28c9e07de95d2cd1'.\n",
      "\u001b[KSaving information to 'stage_train.dvc'.\n",
      "\u001b[K\u001b[33mWARNING\u001b[39m: Dependency 'models/model.joblib' of 'stage_evaluate.dvc' changed because it is 'modified'.\n",
      "\u001b[K\u001b[33mWARNING\u001b[39m: Stage 'stage_evaluate.dvc' changed.\n",
      "\u001b[KReproducing 'stage_evaluate.dvc'\n",
      "\u001b[KRunning command:\n",
      "\tpython src/pipelines/evaluate.py --config=experiments/evaluate_config.yml --base_config=config/pipeline_config.yml\n",
      "{'f1_score': 0.9305555555555555, 'confusion_matrix': [[10, 0, 0], [0, 7, 0], [0, 2, 11]]}\n",
      "\u001b[KOutput 'experiments/eval.txt' didn't change. Skipping saving.\n",
      "\u001b[K\u001b[33mWARNING\u001b[39m: data 'experiments/eval.txt' exists. Removing before checkout.\n",
      "\u001b[KSaving information to 'stage_evaluate.dvc'.\n",
      "\u001b[K\n",
      "To track the changes with git run:\n",
      "\n",
      "\tgit add stage_prepare_configs.dvc stage_featurize.dvc stage_split_train_test.dvc stage_train.dvc stage_evaluate.dvc\n",
      "\u001b[0m"
     ]
    }
   ],
   "source": [
    "!dvc repro stage_evaluate.dvc -f"
   ]
  },
  {
   "cell_type": "code",
   "execution_count": null,
   "metadata": {},
   "outputs": [],
   "source": []
  },
  {
   "cell_type": "markdown",
   "metadata": {},
   "source": [
    "#### View and compare metrics"
   ]
  },
  {
   "cell_type": "code",
   "execution_count": 72,
   "metadata": {},
   "outputs": [
    {
     "name": "stdout",
     "output_type": "stream",
     "text": [
      "\u001b[K\texperiments/eval.txt:\n",
      "\u001b[K\t\t{\n",
      "\u001b[K\t\t  \"f1_score\": 0.9305555555555555,\n",
      "\u001b[K\t\t  \"confusion_matrix\": [\n",
      "\u001b[K\t\t    [\n",
      "\u001b[K\t\t      10,\n",
      "\u001b[K\t\t      0,\n",
      "\u001b[K\t\t      0\n",
      "\u001b[K\t\t    ],\n",
      "\u001b[K\t\t    [\n",
      "\u001b[K\t\t      0,\n",
      "\u001b[K\t\t      7,\n",
      "\u001b[K\t\t      0\n",
      "\u001b[K\t\t    ],\n",
      "\u001b[K\t\t    [\n",
      "\u001b[K\t\t      0,\n",
      "\u001b[K\t\t      2,\n",
      "\u001b[K\t\t      11\n",
      "\u001b[K\t\t    ]\n",
      "\u001b[K\t\t  ]\n",
      "\u001b[K\t\t}\n",
      "\u001b[0m"
     ]
    }
   ],
   "source": [
    "# Last experiment metrics:\n",
    "\n",
    "!dvc metrics show"
   ]
  },
  {
   "cell_type": "code",
   "execution_count": 79,
   "metadata": {},
   "outputs": [
    {
     "name": "stdout",
     "output_type": "stream",
     "text": [
      "\u001b[KWorking Tree:\n",
      "\u001b[K\texperiments/eval.txt:\n",
      "\u001b[K\t\t{\n",
      "\u001b[K\t\t  \"f1_score\": 0.9305555555555555,\n",
      "\u001b[K\t\t  \"confusion_matrix\": [\n",
      "\u001b[K\t\t    [\n",
      "\u001b[K\t\t      10,\n",
      "\u001b[K\t\t      0,\n",
      "\u001b[K\t\t      0\n",
      "\u001b[K\t\t    ],\n",
      "\u001b[K\t\t    [\n",
      "\u001b[K\t\t      0,\n",
      "\u001b[K\t\t      7,\n",
      "\u001b[K\t\t      0\n",
      "\u001b[K\t\t    ],\n",
      "\u001b[K\t\t    [\n",
      "\u001b[K\t\t      0,\n",
      "\u001b[K\t\t      2,\n",
      "\u001b[K\t\t      11\n",
      "\u001b[K\t\t    ]\n",
      "\u001b[K\t\t  ]\n",
      "\u001b[K\t\t}\n",
      "\u001b[Kdev:\n",
      "\u001b[K\texperiments/eval.txt:\n",
      "\u001b[K\t\t{\n",
      "\u001b[K\t\t  \"f1_score\": 0.9305555555555555,\n",
      "\u001b[K\t\t  \"confusion_matrix\": [\n",
      "\u001b[K\t\t    [\n",
      "\u001b[K\t\t      10,\n",
      "\u001b[K\t\t      0,\n",
      "\u001b[K\t\t      0\n",
      "\u001b[K\t\t    ],\n",
      "\u001b[K\t\t    [\n",
      "\u001b[K\t\t      0,\n",
      "\u001b[K\t\t      7,\n",
      "\u001b[K\t\t      0\n",
      "\u001b[K\t\t    ],\n",
      "\u001b[K\t\t    [\n",
      "\u001b[K\t\t      0,\n",
      "\u001b[K\t\t      2,\n",
      "\u001b[K\t\t      11\n",
      "\u001b[K\t\t    ]\n",
      "\u001b[K\t\t  ]\n",
      "\u001b[K\t\t}\n",
      "\u001b[Kexp1-tune-logreg:\n",
      "\u001b[K\texperiments/eval.txt:\n",
      "\u001b[K\t\t{\n",
      "\u001b[K\t\t  \"f1_score\": 0.9305555555555555,\n",
      "\u001b[K\t\t  \"confusion_matrix\": [\n",
      "\u001b[K\t\t    [\n",
      "\u001b[K\t\t      10,\n",
      "\u001b[K\t\t      0,\n",
      "\u001b[K\t\t      0\n",
      "\u001b[K\t\t    ],\n",
      "\u001b[K\t\t    [\n",
      "\u001b[K\t\t      0,\n",
      "\u001b[K\t\t      7,\n",
      "\u001b[K\t\t      0\n",
      "\u001b[K\t\t    ],\n",
      "\u001b[K\t\t    [\n",
      "\u001b[K\t\t      0,\n",
      "\u001b[K\t\t      2,\n",
      "\u001b[K\t\t      11\n",
      "\u001b[K\t\t    ]\n",
      "\u001b[K\t\t  ]\n",
      "\u001b[K\t\t}\n",
      "\u001b[Knew-branch:\n",
      "\u001b[K\texperiments/eval.txt:\n",
      "\u001b[K\t\t{\n",
      "\u001b[K\t\t  \"f1_score\": 0.9305555555555555,\n",
      "\u001b[K\t\t  \"confusion_matrix\": [\n",
      "\u001b[K\t\t    [\n",
      "\u001b[K\t\t      10,\n",
      "\u001b[K\t\t      0,\n",
      "\u001b[K\t\t      0\n",
      "\u001b[K\t\t    ],\n",
      "\u001b[K\t\t    [\n",
      "\u001b[K\t\t      0,\n",
      "\u001b[K\t\t      7,\n",
      "\u001b[K\t\t      0\n",
      "\u001b[K\t\t    ],\n",
      "\u001b[K\t\t    [\n",
      "\u001b[K\t\t      0,\n",
      "\u001b[K\t\t      2,\n",
      "\u001b[K\t\t      11\n",
      "\u001b[K\t\t    ]\n",
      "\u001b[K\t\t  ]\n",
      "\u001b[K\t\t}\n",
      "\u001b[0m"
     ]
    }
   ],
   "source": [
    "# View and compare metrics for all experiments:\n",
    "\n",
    "!dvc metrics show -a"
   ]
  },
  {
   "cell_type": "code",
   "execution_count": 92,
   "metadata": {},
   "outputs": [
    {
     "name": "stdout",
     "output_type": "stream",
     "text": [
      "\u001b[KWorking Tree:\n",
      "\u001b[K\texperiments/eval.txt: [0.9305555555555555]\n",
      "\u001b[Kdev:\n",
      "\u001b[K\texperiments/eval.txt: [0.9305555555555555]\n",
      "\u001b[Kexp1-tune-logreg:\n",
      "\u001b[K\texperiments/eval.txt: [0.9305555555555555]\n",
      "\u001b[Knew-branch:\n",
      "\u001b[K\texperiments/eval.txt: [0.9305555555555555]\n",
      "\u001b[0m"
     ]
    }
   ],
   "source": [
    "# control metrics view \n",
    "\n",
    "!dvc metrics show -t json -x f1_score -a"
   ]
  },
  {
   "cell_type": "code",
   "execution_count": 93,
   "metadata": {},
   "outputs": [
    {
     "name": "stdout",
     "output_type": "stream",
     "text": [
      "\u001b[K\u001b[31mERROR\u001b[39m: unexpected error - HEAD is a detached symbolic reference as it points to '2ae58d216bb07b28ec4800566b306c5c3cefa679'\n",
      "\n",
      "\u001b[33mHaving any troubles?\u001b[39m. Hit us up at \u001b[34mhttps://dvc.org/support\u001b[39m, we are always happy to help!\n",
      "\u001b[0m"
     ]
    }
   ],
   "source": [
    "# View and compare metrics for all tags:\n",
    "\n",
    "!dvc metrics show -T"
   ]
  },
  {
   "cell_type": "markdown",
   "metadata": {},
   "source": [
    "### Try yourself: Use KNN estimator\n",
    "\n",
    "#### TODO \n",
    "- Make experiment with estimator kNN like with SMV;\n",
    "- use your version fo param_grid\n"
   ]
  }
 ],
 "metadata": {
  "kernelspec": {
   "display_name": "Python 3",
   "language": "python",
   "name": "python3"
  },
  "language_info": {
   "codemirror_mode": {
    "name": "ipython",
    "version": 3
   },
   "file_extension": ".py",
   "mimetype": "text/x-python",
   "name": "python",
   "nbconvert_exporter": "python",
   "pygments_lexer": "ipython3",
   "version": "3.7.3"
  },
  "toc": {
   "base_numbering": 1,
   "nav_menu": {},
   "number_sections": true,
   "sideBar": true,
   "skip_h1_title": false,
   "title_cell": "Table of Contents",
   "title_sidebar": "Contents",
   "toc_cell": false,
   "toc_position": {},
   "toc_section_display": true,
   "toc_window_display": true
  },
  "varInspector": {
   "cols": {
    "lenName": 16,
    "lenType": 16,
    "lenVar": 40
   },
   "kernels_config": {
    "python": {
     "delete_cmd_postfix": "",
     "delete_cmd_prefix": "del ",
     "library": "var_list.py",
     "varRefreshCmd": "print(var_dic_list())"
    },
    "r": {
     "delete_cmd_postfix": ") ",
     "delete_cmd_prefix": "rm(",
     "library": "var_list.r",
     "varRefreshCmd": "cat(var_dic_list()) "
    }
   },
   "types_to_exclude": [
    "module",
    "function",
    "builtin_function_or_method",
    "instance",
    "_Feature"
   ],
   "window_display": false
  }
 },
 "nbformat": 4,
 "nbformat_minor": 2
}
