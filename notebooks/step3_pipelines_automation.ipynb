{
 "cells": [
  {
   "cell_type": "code",
   "execution_count": 1,
   "metadata": {},
   "outputs": [
    {
     "name": "stdout",
     "output_type": "stream",
     "text": [
      "/home/dvc-2-iris-demo\n"
     ]
    }
   ],
   "source": [
    "%cd /home/dvc-2-iris-demo"
   ]
  },
  {
   "cell_type": "code",
   "execution_count": 12,
   "metadata": {},
   "outputs": [],
   "source": [
    "# Remove old dvc files to avoid dependencies duplication error\n",
    "\n",
    "# !rm $(find . -name \"*?.dvc\")"
   ]
  },
  {
   "cell_type": "markdown",
   "metadata": {},
   "source": [
    "# Overview main config"
   ]
  },
  {
   "cell_type": "code",
   "execution_count": 3,
   "metadata": {},
   "outputs": [
    {
     "data": {
      "text/plain": [
       "{'base': {'project': '7labs/dvc-2-iris-demo',\n",
       "  'name': 'iris',\n",
       "  'tags': ['solution-0-prototype', 'dev'],\n",
       "  'model': {'model_name': 'model.joblib', 'models_folder': 'models'},\n",
       "  'experiments': {'experiments_folder': 'experiments'},\n",
       "  'random_state': 42},\n",
       " 'split_train_test': {'folder': 'experiments',\n",
       "  'train_csv': 'data/processed/train_iris.csv',\n",
       "  'test_csv': 'data/processed/test_iris.csv',\n",
       "  'test_size': 0.2},\n",
       " 'featurize': {'dataset_csv': 'data/raw/iris.csv',\n",
       "  'featured_dataset_csv': 'data/interim/featured_iris.csv',\n",
       "  'features_columns_range': ['sepal_length', 'petal_length_to_petal_width'],\n",
       "  'target_column': 'species'},\n",
       " 'train': {'cv': 5,\n",
       "  'estimator_name': 'logreg',\n",
       "  'estimators': {'logreg': {'param_grid': {'C': [0.001, 0.01],\n",
       "     'max_iter': [100],\n",
       "     'solver': ['lbfgs'],\n",
       "     'multi_class': ['multinomial']}},\n",
       "   'knn': {'param_grid': {'n_neighbors': [5, 15], 'p': [1, 2]}},\n",
       "   'svm': {'param_grid': {'C': [0.1, 1.0],\n",
       "     'kernel': ['rbf', 'linear'],\n",
       "     'gamma': ['scale'],\n",
       "     'degree': [3, 5]}}}},\n",
       " 'evaluate': {'metrics_file': 'eval.txt'}}"
      ]
     },
     "execution_count": 3,
     "metadata": {},
     "output_type": "execute_result"
    }
   ],
   "source": [
    "import yaml\n",
    "\n",
    "config = yaml.load(open('config/pipeline_config.yml'), Loader=yaml.FullLoader)\n",
    "config"
   ]
  },
  {
   "cell_type": "markdown",
   "metadata": {},
   "source": [
    "# Create and run pipelines"
   ]
  },
  {
   "cell_type": "markdown",
   "metadata": {},
   "source": [
    "## 1. Setup / config"
   ]
  },
  {
   "cell_type": "code",
   "execution_count": 3,
   "metadata": {},
   "outputs": [
    {
     "name": "stdout",
     "output_type": "stream",
     "text": [
      "\u001b[KRunning command:\n",
      "\tpython src/pipelines/prepare_configs.py --config=config/pipeline_config.yml\n",
      "Save config: experiments/base_config.yml\n",
      "Save config: experiments/split_train_test_config.yml\n",
      "Save config: experiments/featurize_config.yml\n",
      "Save config: experiments/train_config.yml\n",
      "Save config: experiments/evaluate_config.yml\n",
      "\u001b[KSaving 'experiments/split_train_test_config.yml' to '.dvc/cache/7f/cf7d4c56cd36d485c9776c8dfbafa7'.\n",
      "\u001b[KSaving 'experiments/featurize_config.yml' to '.dvc/cache/3d/9c113b409731fba887d5a9cd43b486'.\n",
      "\u001b[KSaving 'experiments/train_config.yml' to '.dvc/cache/09/62f3873bcc28078851867c92d22fc3'.\n",
      "\u001b[KSaving 'experiments/evaluate_config.yml' to '.dvc/cache/91/c85b95fcb52f7b1957c02d11143a2d'.\n",
      "\u001b[KSaving information to 'stage_prepare_configs.dvc'.\n",
      "\u001b[K\n",
      "To track the changes with git run:\n",
      "\n",
      "\tgit add stage_prepare_configs.dvc\n",
      "\u001b[0m"
     ]
    }
   ],
   "source": [
    "!dvc run -f stage_prepare_configs.dvc \\\n",
    "    -d src/pipelines/prepare_configs.py \\\n",
    "    -d config/pipeline_config.yml \\\n",
    "    -o experiments/split_train_test_config.yml \\\n",
    "    -o experiments/featurize_config.yml \\\n",
    "    -o experiments/train_config.yml \\\n",
    "    -o experiments/evaluate_config.yml \\\n",
    "    python src/pipelines/prepare_configs.py \\\n",
    "        --config=config/pipeline_config.yml"
   ]
  },
  {
   "cell_type": "markdown",
   "metadata": {},
   "source": [
    "## 2. Featurization"
   ]
  },
  {
   "cell_type": "code",
   "execution_count": 4,
   "metadata": {},
   "outputs": [
    {
     "name": "stdout",
     "output_type": "stream",
     "text": [
      "\u001b[KRunning command:\n",
      "\tpython src/pipelines/featurize.py --config=experiments/featurize_config.yml\n",
      "\u001b[K\u001b[33mWARNING\u001b[39m: data 'data/interim/featured_iris.csv' exists. Removing before checkout.\n",
      "\u001b[KSaving information to 'stage_featurize.dvc'.\n",
      "\u001b[K\n",
      "To track the changes with git run:\n",
      "\n",
      "\tgit add stage_featurize.dvc\n",
      "\u001b[0m"
     ]
    }
   ],
   "source": [
    "!dvc run -f stage_featurize.dvc \\\n",
    "    -d src/pipelines/featurize.py \\\n",
    "    -d experiments/featurize_config.yml \\\n",
    "    -d data/raw/iris.csv \\\n",
    "    -o data/interim/featured_iris.csv \\\n",
    "    python src/pipelines/featurize.py \\\n",
    "        --config=experiments/featurize_config.yml"
   ]
  },
  {
   "cell_type": "markdown",
   "metadata": {},
   "source": [
    "## 3. Split dataset into train/test"
   ]
  },
  {
   "cell_type": "code",
   "execution_count": 5,
   "metadata": {},
   "outputs": [
    {
     "name": "stdout",
     "output_type": "stream",
     "text": [
      "\u001b[KRunning command:\n",
      "\tpython src/pipelines/split_train_test.py --config=experiments/split_train_test_config.yml --base_config=config/pipeline_config.yml\n",
      "\u001b[KSaving 'data/processed/train_iris.csv' to '.dvc/cache/36/6af2683b508936c8c83e963e88cd40'.\n",
      "\u001b[KSaving 'data/processed/test_iris.csv' to '.dvc/cache/76/51c34292c7d846debd07ed83897606'.\n",
      "\u001b[KSaving information to 'stage_split_train_test.dvc'.\n",
      "\u001b[K\n",
      "To track the changes with git run:\n",
      "\n",
      "\tgit add stage_split_train_test.dvc\n",
      "\u001b[0m"
     ]
    }
   ],
   "source": [
    "!dvc run -f stage_split_train_test.dvc \\\n",
    "    -d src/pipelines/split_train_test.py \\\n",
    "    -d experiments/split_train_test_config.yml \\\n",
    "    -d data/interim/featured_iris.csv \\\n",
    "    -o data/processed/train_iris.csv \\\n",
    "    -o data/processed/test_iris.csv \\\n",
    "    python src/pipelines/split_train_test.py \\\n",
    "        --config=experiments/split_train_test_config.yml \\\n",
    "        --base_config=config/pipeline_config.yml"
   ]
  },
  {
   "cell_type": "markdown",
   "metadata": {},
   "source": [
    "## 4. Train"
   ]
  },
  {
   "cell_type": "code",
   "execution_count": 6,
   "metadata": {},
   "outputs": [
    {
     "name": "stdout",
     "output_type": "stream",
     "text": [
      "\u001b[KRunning command:\n",
      "\tpython src/pipelines/train.py --config=experiments/train_config.yml --base_config=config/pipeline_config.yml\n",
      "Fitting 5 folds for each of 2 candidates, totalling 10 fits\n",
      "[Parallel(n_jobs=1)]: Using backend SequentialBackend with 1 concurrent workers.\n",
      "[Parallel(n_jobs=1)]: Done  10 out of  10 | elapsed:    0.1s finished\n",
      "/usr/local/lib/python3.7/site-packages/sklearn/model_selection/_search.py:813: DeprecationWarning: The default of the `iid` parameter will change from True to False in version 0.22 and will be removed in 0.24. This will change numeric results when test-set sizes are unequal.\n",
      "  DeprecationWarning)\n",
      "0.8529086479396076\n",
      "\u001b[KSaving 'models/model.joblib' to '.dvc/cache/d8/6199364bf884ace51244a2c5bdaa14'.\n",
      "\u001b[KSaving information to 'stage_train.dvc'.\n",
      "\u001b[K\n",
      "To track the changes with git run:\n",
      "\n",
      "\tgit add stage_train.dvc\n",
      "\u001b[0m"
     ]
    }
   ],
   "source": [
    "!dvc run -f stage_train.dvc \\\n",
    "    -d src/pipelines/train.py \\\n",
    "    -d experiments/train_config.yml \\\n",
    "    -d data/processed/train_iris.csv \\\n",
    "    -o models/model.joblib \\\n",
    "    python src/pipelines/train.py \\\n",
    "        --config=experiments/train_config.yml \\\n",
    "        --base_config=config/pipeline_config.yml"
   ]
  },
  {
   "cell_type": "markdown",
   "metadata": {},
   "source": [
    "## 5. Evaluate "
   ]
  },
  {
   "cell_type": "code",
   "execution_count": 7,
   "metadata": {},
   "outputs": [
    {
     "name": "stdout",
     "output_type": "stream",
     "text": [
      "\u001b[KRunning command:\n",
      "\tpython src/pipelines/evaluate.py --config=experiments/evaluate_config.yml --base_config=config/pipeline_config.yml\n",
      "{'f1_score': 0.9305555555555555, 'confusion_matrix': [[10, 0, 0], [0, 7, 0], [0, 2, 11]]}\n",
      "\u001b[KSaving 'experiments/eval.txt' to '.dvc/cache/d9/e6179f82ccc574b27763a38177f3d7'.\n",
      "\u001b[KSaving information to 'stage_evaluate.dvc'.\n",
      "\u001b[K\n",
      "To track the changes with git run:\n",
      "\n",
      "\tgit add stage_evaluate.dvc\n",
      "\u001b[0m"
     ]
    }
   ],
   "source": [
    "!dvc run -f stage_evaluate.dvc \\\n",
    "    -d src/pipelines/evaluate.py \\\n",
    "    -d experiments/evaluate_config.yml \\\n",
    "    -d models/model.joblib \\\n",
    "    -m experiments/eval.txt \\\n",
    "    python src/pipelines/evaluate.py \\\n",
    "        --config=experiments/evaluate_config.yml \\\n",
    "        --base_config=config/pipeline_config.yml"
   ]
  },
  {
   "cell_type": "code",
   "execution_count": null,
   "metadata": {},
   "outputs": [],
   "source": []
  },
  {
   "cell_type": "markdown",
   "metadata": {},
   "source": [
    "# Reproduce pipeline"
   ]
  },
  {
   "cell_type": "markdown",
   "metadata": {},
   "source": [
    "### Evaluate (final stage)"
   ]
  },
  {
   "cell_type": "code",
   "execution_count": 9,
   "metadata": {},
   "outputs": [
    {
     "name": "stdout",
     "output_type": "stream",
     "text": [
      "\u001b[KStage 'stage_prepare_configs.dvc' didn't change.\n",
      "\u001b[KStage 'stage_featurize.dvc' didn't change.\n",
      "\u001b[KStage 'stage_split_train_test.dvc' didn't change.\n",
      "\u001b[KStage 'stage_train.dvc' didn't change.\n",
      "\u001b[KStage 'stage_evaluate.dvc' didn't change.\n",
      "\u001b[KPipeline is up to date. Nothing to reproduce.\n",
      "\u001b[0m"
     ]
    }
   ],
   "source": [
    "# Pipeline is up to date. Nothing to reproduce.\n",
    "\n",
    "!dvc repro stage_evaluate.dvc"
   ]
  },
  {
   "cell_type": "code",
   "execution_count": 13,
   "metadata": {},
   "outputs": [
    {
     "name": "stdout",
     "output_type": "stream",
     "text": [
      "\u001b[KStage 'stage_prepare_configs.dvc' didn't change.\n",
      "\u001b[KReproducing 'stage_prepare_configs.dvc'\n",
      "\u001b[KRunning command:\n",
      "\tpython src/pipelines/prepare_configs.py --config=config/pipeline_config.yml\n",
      "Save config: experiments/base_config.yml\n",
      "Save config: experiments/split_train_test_config.yml\n",
      "Save config: experiments/featurize_config.yml\n",
      "Save config: experiments/train_config.yml\n",
      "Save config: experiments/evaluate_config.yml\n",
      "\u001b[KOutput 'experiments/split_train_test_config.yml' didn't change. Skipping saving.\n",
      "\u001b[KOutput 'experiments/featurize_config.yml' didn't change. Skipping saving.\n",
      "\u001b[KOutput 'experiments/train_config.yml' didn't change. Skipping saving.\n",
      "\u001b[KOutput 'experiments/evaluate_config.yml' didn't change. Skipping saving.\n",
      "\u001b[K\u001b[33mWARNING\u001b[39m: data 'experiments/split_train_test_config.yml' exists. Removing before checkout.\n",
      "\u001b[K\u001b[33mWARNING\u001b[39m: data 'experiments/featurize_config.yml' exists. Removing before checkout.\n",
      "\u001b[K\u001b[33mWARNING\u001b[39m: data 'experiments/train_config.yml' exists. Removing before checkout.\n",
      "\u001b[K\u001b[33mWARNING\u001b[39m: data 'experiments/evaluate_config.yml' exists. Removing before checkout.\n",
      "\u001b[KSaving information to 'stage_prepare_configs.dvc'.\n",
      "\u001b[KStage 'stage_featurize.dvc' didn't change.\n",
      "\u001b[KReproducing 'stage_featurize.dvc'\n",
      "\u001b[KRunning command:\n",
      "\tpython src/pipelines/featurize.py --config=experiments/featurize_config.yml\n",
      "\u001b[KOutput 'data/interim/featured_iris.csv' didn't change. Skipping saving.\n",
      "\u001b[K\u001b[33mWARNING\u001b[39m: data 'data/interim/featured_iris.csv' exists. Removing before checkout.\n",
      "\u001b[KSaving information to 'stage_featurize.dvc'.\n",
      "\u001b[KStage 'stage_split_train_test.dvc' didn't change.\n",
      "\u001b[KReproducing 'stage_split_train_test.dvc'\n",
      "\u001b[KRunning command:\n",
      "\tpython src/pipelines/split_train_test.py --config=experiments/split_train_test_config.yml --base_config=config/pipeline_config.yml\n",
      "\u001b[KOutput 'data/processed/train_iris.csv' didn't change. Skipping saving.\n",
      "\u001b[KOutput 'data/processed/test_iris.csv' didn't change. Skipping saving.\n",
      "\u001b[K\u001b[33mWARNING\u001b[39m: data 'data/processed/train_iris.csv' exists. Removing before checkout.\n",
      "\u001b[K\u001b[33mWARNING\u001b[39m: data 'data/processed/test_iris.csv' exists. Removing before checkout.\n",
      "\u001b[KSaving information to 'stage_split_train_test.dvc'.\n",
      "\u001b[KStage 'stage_train.dvc' didn't change.\n",
      "\u001b[KReproducing 'stage_train.dvc'\n",
      "\u001b[KRunning command:\n",
      "\tpython src/pipelines/train.py --config=experiments/train_config.yml --base_config=config/pipeline_config.yml\n",
      "Fitting 5 folds for each of 2 candidates, totalling 10 fits\n",
      "[Parallel(n_jobs=1)]: Using backend SequentialBackend with 1 concurrent workers.\n",
      "[Parallel(n_jobs=1)]: Done  10 out of  10 | elapsed:    0.1s finished\n",
      "/usr/local/lib/python3.7/site-packages/sklearn/model_selection/_search.py:813: DeprecationWarning: The default of the `iid` parameter will change from True to False in version 0.22 and will be removed in 0.24. This will change numeric results when test-set sizes are unequal.\n",
      "  DeprecationWarning)\n",
      "0.8529086479396076\n",
      "\u001b[KSaving 'models/model.joblib' to '.dvc/cache/ec/6ef2358855dd547e82400041228908'.\n",
      "\u001b[KSaving information to 'stage_train.dvc'.\n",
      "\u001b[K\u001b[33mWARNING\u001b[39m: Dependency 'models/model.joblib' of 'stage_evaluate.dvc' changed because it is 'modified'.\n",
      "\u001b[K\u001b[33mWARNING\u001b[39m: Stage 'stage_evaluate.dvc' changed.\n",
      "\u001b[KReproducing 'stage_evaluate.dvc'\n",
      "\u001b[KRunning command:\n",
      "\tpython src/pipelines/evaluate.py --config=experiments/evaluate_config.yml --base_config=config/pipeline_config.yml\n",
      "{'f1_score': 0.9305555555555555, 'confusion_matrix': [[10, 0, 0], [0, 7, 0], [0, 2, 11]]}\n",
      "\u001b[KOutput 'experiments/eval.txt' didn't change. Skipping saving.\n",
      "\u001b[K\u001b[33mWARNING\u001b[39m: data 'experiments/eval.txt' exists. Removing before checkout.\n",
      "\u001b[KSaving information to 'stage_evaluate.dvc'.\n",
      "\u001b[K\n",
      "To track the changes with git run:\n",
      "\n",
      "\tgit add stage_prepare_configs.dvc stage_featurize.dvc stage_split_train_test.dvc stage_train.dvc stage_evaluate.dvc\n",
      "\u001b[0m"
     ]
    }
   ],
   "source": [
    "# -f force reproducing pipeline\n",
    "\n",
    "!dvc repro stage_evaluate.dvc -f"
   ]
  },
  {
   "cell_type": "code",
   "execution_count": null,
   "metadata": {},
   "outputs": [],
   "source": []
  },
  {
   "cell_type": "code",
   "execution_count": null,
   "metadata": {},
   "outputs": [],
   "source": []
  },
  {
   "cell_type": "code",
   "execution_count": null,
   "metadata": {},
   "outputs": [],
   "source": []
  }
 ],
 "metadata": {
  "kernelspec": {
   "display_name": "Python 3",
   "language": "python",
   "name": "python3"
  },
  "language_info": {
   "codemirror_mode": {
    "name": "ipython",
    "version": 3
   },
   "file_extension": ".py",
   "mimetype": "text/x-python",
   "name": "python",
   "nbconvert_exporter": "python",
   "pygments_lexer": "ipython3",
   "version": "3.7.3"
  },
  "toc": {
   "base_numbering": 1,
   "nav_menu": {},
   "number_sections": true,
   "sideBar": true,
   "skip_h1_title": false,
   "title_cell": "Table of Contents",
   "title_sidebar": "Contents",
   "toc_cell": false,
   "toc_position": {},
   "toc_section_display": true,
   "toc_window_display": false
  },
  "varInspector": {
   "cols": {
    "lenName": 16,
    "lenType": 16,
    "lenVar": 40
   },
   "kernels_config": {
    "python": {
     "delete_cmd_postfix": "",
     "delete_cmd_prefix": "del ",
     "library": "var_list.py",
     "varRefreshCmd": "print(var_dic_list())"
    },
    "r": {
     "delete_cmd_postfix": ") ",
     "delete_cmd_prefix": "rm(",
     "library": "var_list.r",
     "varRefreshCmd": "cat(var_dic_list()) "
    }
   },
   "types_to_exclude": [
    "module",
    "function",
    "builtin_function_or_method",
    "instance",
    "_Feature"
   ],
   "window_display": false
  }
 },
 "nbformat": 4,
 "nbformat_minor": 2
}
